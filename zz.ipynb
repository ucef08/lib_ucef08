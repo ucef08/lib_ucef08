{
 "cells": [
  {
   "cell_type": "code",
   "execution_count": 1,
   "metadata": {},
   "outputs": [],
   "source": [
    "# Sauvegarde dans github\n",
    "import os\n",
    "def maj(commentaire):\n",
    "    !cd /.\n",
    "    os.chdir(os.getcwd())\n",
    "    !git init >NUL 2>&1\n",
    "    !git add . >NUL 2>&1\n",
    "    !git commit -m commentaire >NUL 2>&1\n",
    "    !git push -u origin main >NUL 2>&1\n",
    "maj(\"maintenance\")"
   ]
  }
 ],
 "metadata": {
  "kernelspec": {
   "display_name": "env160623",
   "language": "python",
   "name": "python3"
  },
  "language_info": {
   "codemirror_mode": {
    "name": "ipython",
    "version": 3
   },
   "file_extension": ".py",
   "mimetype": "text/x-python",
   "name": "python",
   "nbconvert_exporter": "python",
   "pygments_lexer": "ipython3",
   "version": "3.11.4"
  },
  "orig_nbformat": 4
 },
 "nbformat": 4,
 "nbformat_minor": 2
}
